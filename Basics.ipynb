{
 "cells": [
  {
   "cell_type": "code",
   "execution_count": 1,
   "id": "3304e481",
   "metadata": {},
   "outputs": [],
   "source": [
    "import pandas as pd\n",
    "import numpy as np"
   ]
  },
  {
   "cell_type": "code",
   "execution_count": 2,
   "id": "7979df1c",
   "metadata": {},
   "outputs": [
    {
     "ename": "TypeError",
     "evalue": "read_csv() missing 1 required positional argument: 'filepath_or_buffer'",
     "output_type": "error",
     "traceback": [
      "\u001b[1;31m---------------------------------------------------------------------------\u001b[0m",
      "\u001b[1;31mTypeError\u001b[0m                                 Traceback (most recent call last)",
      "\u001b[1;32m<ipython-input-2-2e425d9f1eb5>\u001b[0m in \u001b[0;36m<module>\u001b[1;34m\u001b[0m\n\u001b[1;32m----> 1\u001b[1;33m \u001b[0mpd\u001b[0m\u001b[1;33m.\u001b[0m\u001b[0mread_csv\u001b[0m\u001b[1;33m(\u001b[0m\u001b[1;33m)\u001b[0m\u001b[1;33m\u001b[0m\u001b[1;33m\u001b[0m\u001b[0m\n\u001b[0m",
      "\u001b[1;31mTypeError\u001b[0m: read_csv() missing 1 required positional argument: 'filepath_or_buffer'"
     ]
    }
   ],
   "source": [
    "pd.read_csv()"
   ]
  },
  {
   "cell_type": "code",
   "execution_count": 3,
   "id": "9c6839e0",
   "metadata": {},
   "outputs": [],
   "source": [
    "predicted_steals = [4,7,2,1]\n",
    "actual_steals = [5,6,7,1]"
   ]
  },
  {
   "cell_type": "code",
   "execution_count": 4,
   "id": "113a5f0e",
   "metadata": {},
   "outputs": [],
   "source": [
    "from sklearn.metrics import mean_squared_error"
   ]
  },
  {
   "cell_type": "code",
   "execution_count": 5,
   "id": "cd6d8ded",
   "metadata": {},
   "outputs": [],
   "source": [
    "lin_mse = mean_squared_error(predicted_steals, actual_steals)"
   ]
  },
  {
   "cell_type": "code",
   "execution_count": 6,
   "id": "b2073e15",
   "metadata": {},
   "outputs": [
    {
     "name": "stdout",
     "output_type": "stream",
     "text": [
      "6.75\n"
     ]
    }
   ],
   "source": [
    "print(lin_mse)"
   ]
  },
  {
   "cell_type": "code",
   "execution_count": 7,
   "id": "de017159",
   "metadata": {},
   "outputs": [],
   "source": [
    "# is a comment"
   ]
  },
  {
   "cell_type": "code",
   "execution_count": 8,
   "id": "2ea47078",
   "metadata": {},
   "outputs": [],
   "source": [
    "ppg = 28.3"
   ]
  },
  {
   "cell_type": "code",
   "execution_count": 9,
   "id": "20636c41",
   "metadata": {},
   "outputs": [
    {
     "name": "stdout",
     "output_type": "stream",
     "text": [
      "28.3\n"
     ]
    }
   ],
   "source": [
    "print(ppg)"
   ]
  },
  {
   "cell_type": "code",
   "execution_count": 13,
   "id": "4c73b6fb",
   "metadata": {},
   "outputs": [
    {
     "data": {
      "text/plain": [
       "str"
      ]
     },
     "execution_count": 13,
     "metadata": {},
     "output_type": "execute_result"
    }
   ],
   "source": [
    "goat = 'Michael Jordan'\n",
    "type(goat)"
   ]
  },
  {
   "cell_type": "code",
   "execution_count": 14,
   "id": "6e9373d9",
   "metadata": {},
   "outputs": [
    {
     "data": {
      "text/plain": [
       "float"
      ]
     },
     "execution_count": 14,
     "metadata": {},
     "output_type": "execute_result"
    }
   ],
   "source": [
    "type(ppg)"
   ]
  },
  {
   "cell_type": "code",
   "execution_count": 15,
   "id": "ccb17e82",
   "metadata": {},
   "outputs": [],
   "source": [
    "#LISTS\n",
    "season_list = ['2014-15', '2015-16','2016-17']"
   ]
  },
  {
   "cell_type": "code",
   "execution_count": 16,
   "id": "746da8c1",
   "metadata": {},
   "outputs": [
    {
     "data": {
      "text/plain": [
       "list"
      ]
     },
     "execution_count": 16,
     "metadata": {},
     "output_type": "execute_result"
    }
   ],
   "source": [
    "type(season_list)"
   ]
  },
  {
   "cell_type": "code",
   "execution_count": 17,
   "id": "c11f2846",
   "metadata": {},
   "outputs": [
    {
     "data": {
      "text/plain": [
       "3"
      ]
     },
     "execution_count": 17,
     "metadata": {},
     "output_type": "execute_result"
    }
   ],
   "source": [
    "len(season_list)"
   ]
  },
  {
   "cell_type": "code",
   "execution_count": 18,
   "id": "3e0b10f7",
   "metadata": {},
   "outputs": [
    {
     "name": "stdout",
     "output_type": "stream",
     "text": [
      "2016-17\n"
     ]
    }
   ],
   "source": [
    "print(season_list[2])"
   ]
  },
  {
   "cell_type": "code",
   "execution_count": 19,
   "id": "df14e086",
   "metadata": {},
   "outputs": [
    {
     "name": "stdout",
     "output_type": "stream",
     "text": [
      "2014-15\n"
     ]
    }
   ],
   "source": [
    "print(season_list[0])"
   ]
  },
  {
   "cell_type": "code",
   "execution_count": 20,
   "id": "ff7593b1",
   "metadata": {},
   "outputs": [],
   "source": [
    "season_list.append('2017-18')"
   ]
  },
  {
   "cell_type": "code",
   "execution_count": 21,
   "id": "3dfd81fa",
   "metadata": {},
   "outputs": [
    {
     "name": "stdout",
     "output_type": "stream",
     "text": [
      "['2014-15', '2015-16', '2016-17', '2017-18']\n"
     ]
    }
   ],
   "source": [
    "print(season_list)"
   ]
  },
  {
   "cell_type": "code",
   "execution_count": 22,
   "id": "842212ab",
   "metadata": {},
   "outputs": [
    {
     "data": {
      "text/plain": [
       "4"
      ]
     },
     "execution_count": 22,
     "metadata": {},
     "output_type": "execute_result"
    }
   ],
   "source": [
    "len(season_list)"
   ]
  },
  {
   "cell_type": "code",
   "execution_count": 23,
   "id": "3221cc1f",
   "metadata": {},
   "outputs": [],
   "source": [
    "banana_boat = ['Lebron James', 'Chris Paul','Dwayne Wade']"
   ]
  },
  {
   "cell_type": "code",
   "execution_count": 24,
   "id": "816689db",
   "metadata": {},
   "outputs": [],
   "source": [
    "new_member = 'Carmelo Anthony'"
   ]
  },
  {
   "cell_type": "code",
   "execution_count": 25,
   "id": "85e196cb",
   "metadata": {},
   "outputs": [
    {
     "name": "stdout",
     "output_type": "stream",
     "text": [
      "Carmelo Anthony\n"
     ]
    }
   ],
   "source": [
    "print(new_member)"
   ]
  },
  {
   "cell_type": "code",
   "execution_count": 26,
   "id": "0349fcb5",
   "metadata": {},
   "outputs": [],
   "source": [
    "banana_boat.append(new_member)"
   ]
  },
  {
   "cell_type": "code",
   "execution_count": 27,
   "id": "d3c0f550",
   "metadata": {},
   "outputs": [
    {
     "name": "stdout",
     "output_type": "stream",
     "text": [
      "['Lebron James', 'Chris Paul', 'Dwayne Wade', 'Carmelo Anthony']\n"
     ]
    }
   ],
   "source": [
    "print(banana_boat)"
   ]
  },
  {
   "cell_type": "code",
   "execution_count": 28,
   "id": "66501a6a",
   "metadata": {},
   "outputs": [],
   "source": [
    "#Dictionaries - use {} use values with keys. Keys can only be used once, but can have many values"
   ]
  },
  {
   "cell_type": "code",
   "execution_count": 29,
   "id": "52a7416e",
   "metadata": {},
   "outputs": [],
   "source": [
    "lebron_dict = {\n",
    "    'player_name': 'Lebron James',\n",
    "    'team': 'Los Angeles Lakers',\n",
    "    'player_id': 2544,\n",
    "    'season_id': '2018-19',\n",
    "    'ppg': 27.4\n",
    "}"
   ]
  },
  {
   "cell_type": "code",
   "execution_count": 30,
   "id": "d34a75dc",
   "metadata": {},
   "outputs": [
    {
     "data": {
      "text/plain": [
       "{'player_name': 'Lebron James',\n",
       " 'team': 'Los Angeles Lakers',\n",
       " 'player_id': 2544,\n",
       " 'season_id': '2018-19',\n",
       " 'ppg': 27.4}"
      ]
     },
     "execution_count": 30,
     "metadata": {},
     "output_type": "execute_result"
    }
   ],
   "source": [
    "lebron_dict"
   ]
  },
  {
   "cell_type": "code",
   "execution_count": 32,
   "id": "4fabf754",
   "metadata": {},
   "outputs": [],
   "source": [
    "team = lebron_dict['team']"
   ]
  },
  {
   "cell_type": "code",
   "execution_count": 33,
   "id": "77a78cfb",
   "metadata": {},
   "outputs": [
    {
     "name": "stdout",
     "output_type": "stream",
     "text": [
      "Los Angeles Lakers\n"
     ]
    }
   ],
   "source": [
    "print(team)"
   ]
  },
  {
   "cell_type": "code",
   "execution_count": 34,
   "id": "9b878130",
   "metadata": {},
   "outputs": [],
   "source": [
    "lebron_stats = {\n",
    "    'points':27.4,\n",
    "    'rebounds': 8.5,\n",
    "    'assists': 8.3\n",
    "}"
   ]
  },
  {
   "cell_type": "code",
   "execution_count": 35,
   "id": "98bc747e",
   "metadata": {},
   "outputs": [
    {
     "name": "stdout",
     "output_type": "stream",
     "text": [
      "{'points': 27.4, 'rebounds': 8.5, 'assists': 8.3}\n"
     ]
    }
   ],
   "source": [
    "print(lebron_stats)"
   ]
  },
  {
   "cell_type": "code",
   "execution_count": 36,
   "id": "2743c183",
   "metadata": {},
   "outputs": [
    {
     "data": {
      "text/plain": [
       "8.3"
      ]
     },
     "execution_count": 36,
     "metadata": {},
     "output_type": "execute_result"
    }
   ],
   "source": [
    "lebron_stats['assists']"
   ]
  },
  {
   "cell_type": "code",
   "execution_count": 37,
   "id": "404f0faf",
   "metadata": {},
   "outputs": [],
   "source": [
    "#For Loops"
   ]
  },
  {
   "cell_type": "code",
   "execution_count": 38,
   "id": "ff5d919e",
   "metadata": {},
   "outputs": [],
   "source": [
    "nba_players = ['Trae Young', 'Kevin Durant', 'Lebron James']"
   ]
  },
  {
   "cell_type": "code",
   "execution_count": 39,
   "id": "6342d077",
   "metadata": {},
   "outputs": [
    {
     "data": {
      "text/plain": [
       "['Trae Young', 'Kevin Durant', 'Lebron James']"
      ]
     },
     "execution_count": 39,
     "metadata": {},
     "output_type": "execute_result"
    }
   ],
   "source": [
    "nba_players"
   ]
  },
  {
   "cell_type": "code",
   "execution_count": 40,
   "id": "dd16a3ed",
   "metadata": {},
   "outputs": [
    {
     "data": {
      "text/plain": [
       "list"
      ]
     },
     "execution_count": 40,
     "metadata": {},
     "output_type": "execute_result"
    }
   ],
   "source": [
    "type(nba_players)"
   ]
  },
  {
   "cell_type": "code",
   "execution_count": 41,
   "id": "e437dd6b",
   "metadata": {},
   "outputs": [
    {
     "name": "stdout",
     "output_type": "stream",
     "text": [
      "Trae Young\n",
      "Kevin Durant\n",
      "Lebron James\n"
     ]
    }
   ],
   "source": [
    "for player in nba_players:\n",
    "    print(player)"
   ]
  },
  {
   "cell_type": "code",
   "execution_count": 43,
   "id": "7f30a825",
   "metadata": {},
   "outputs": [
    {
     "name": "stdout",
     "output_type": "stream",
     "text": [
      "Trae Young\n",
      "Kevin Durant\n"
     ]
    }
   ],
   "source": [
    "for player in nba_players:\n",
    "    print(player)\n",
    "    if player == 'Kevin Durant':\n",
    "        break"
   ]
  },
  {
   "cell_type": "code",
   "execution_count": 44,
   "id": "eb4a6711",
   "metadata": {},
   "outputs": [
    {
     "name": "stdout",
     "output_type": "stream",
     "text": [
      "Trae Young\n",
      "Lebron James\n"
     ]
    }
   ],
   "source": [
    "for player in nba_players:\n",
    "    if player == 'Kevin Durant':\n",
    "        continue\n",
    "    print(player)"
   ]
  },
  {
   "cell_type": "code",
   "execution_count": 45,
   "id": "3deaed08",
   "metadata": {},
   "outputs": [],
   "source": [
    "lebron_dict = {\n",
    "    'player_name': 'Lebron James',\n",
    "    'team': 'Los Angeles Lakers',\n",
    "    'player_id': 2544,\n",
    "    'season_id': '2018-19',\n",
    "    'ppg': 27.4\n",
    "}"
   ]
  },
  {
   "cell_type": "code",
   "execution_count": 46,
   "id": "d9cd5675",
   "metadata": {},
   "outputs": [
    {
     "name": "stdout",
     "output_type": "stream",
     "text": [
      "player_name Lebron James\n",
      "team Los Angeles Lakers\n",
      "player_id 2544\n",
      "season_id 2018-19\n",
      "ppg 27.4\n"
     ]
    }
   ],
   "source": [
    "for key,value in lebron_dict.items():\n",
    "    print(key,value)"
   ]
  },
  {
   "cell_type": "code",
   "execution_count": 47,
   "id": "de3c85c4",
   "metadata": {},
   "outputs": [],
   "source": [
    "#If Else Statement"
   ]
  },
  {
   "cell_type": "code",
   "execution_count": 48,
   "id": "9db47ca5",
   "metadata": {},
   "outputs": [],
   "source": [
    "harden_ppg = 36.2\n",
    "durant_ppg = 26.8"
   ]
  },
  {
   "cell_type": "code",
   "execution_count": 49,
   "id": "0b7039b9",
   "metadata": {},
   "outputs": [
    {
     "name": "stdout",
     "output_type": "stream",
     "text": [
      "Harden scores more than Durant on average\n"
     ]
    }
   ],
   "source": [
    "if harden_ppg > durant_ppg:\n",
    "    print('Harden scores more than Durant on average')"
   ]
  },
  {
   "cell_type": "code",
   "execution_count": 50,
   "id": "2f36589e",
   "metadata": {},
   "outputs": [
    {
     "name": "stdout",
     "output_type": "stream",
     "text": [
      "Harden is a better scorer than Durant\n"
     ]
    }
   ],
   "source": [
    "if harden_ppg < durant_ppg:\n",
    "    print('Durant is a better scorer than Harden')\n",
    "else:\n",
    "    print('Harden is a better scorer than Durant')"
   ]
  },
  {
   "cell_type": "code",
   "execution_count": 56,
   "id": "376b89be",
   "metadata": {},
   "outputs": [],
   "source": [
    "Klay_ft = 81.4\n",
    "Klay_3p = 40.3\n",
    "Steph_ft = 91.2\n",
    "Steph_3p = 43.5"
   ]
  },
  {
   "cell_type": "code",
   "execution_count": 57,
   "id": "3136e5d2",
   "metadata": {},
   "outputs": [
    {
     "name": "stdout",
     "output_type": "stream",
     "text": [
      "Steph is the better shooter overall\n"
     ]
    }
   ],
   "source": [
    "if Steph_ft > Klay_ft and Steph_3p > Klay_3p:\n",
    "    print('Steph is the better shooter overall')"
   ]
  },
  {
   "cell_type": "code",
   "execution_count": 58,
   "id": "97de6da5",
   "metadata": {},
   "outputs": [],
   "source": [
    "league_avg_ft = 76.7\n",
    "steph_ft = 91.2\n",
    "deandre_ft = 70.5"
   ]
  },
  {
   "cell_type": "code",
   "execution_count": 59,
   "id": "3f23bf6d",
   "metadata": {},
   "outputs": [
    {
     "name": "stdout",
     "output_type": "stream",
     "text": [
      "At least one of these players shoots better than league average\n"
     ]
    }
   ],
   "source": [
    "if league_avg_ft > steph_ft or league_avg_ft > deandre_ft:\n",
    "    print('At least one of these players shoots better than league average')"
   ]
  },
  {
   "cell_type": "code",
   "execution_count": 60,
   "id": "6c01fa22",
   "metadata": {},
   "outputs": [
    {
     "name": "stdout",
     "output_type": "stream",
     "text": [
      "At least one of these players shoots worse than league average\n"
     ]
    }
   ],
   "source": [
    "if league_avg_ft < steph_ft or league_avg_ft < deandre_ft:\n",
    "    print('At least one of these players shoots worse than league average')"
   ]
  },
  {
   "cell_type": "code",
   "execution_count": 63,
   "id": "984f72ef",
   "metadata": {},
   "outputs": [],
   "source": [
    "#Functions"
   ]
  },
  {
   "cell_type": "code",
   "execution_count": 69,
   "id": "9203579f",
   "metadata": {},
   "outputs": [],
   "source": [
    "# Function that calculates points per game\n",
    "def points_per_game(total_points, games_played):\n",
    "    ppg = total_points / games_played\n",
    "    return ppg"
   ]
  },
  {
   "cell_type": "code",
   "execution_count": 70,
   "id": "6ccb1ad8",
   "metadata": {},
   "outputs": [
    {
     "data": {
      "text/plain": [
       "27.4"
      ]
     },
     "execution_count": 70,
     "metadata": {},
     "output_type": "execute_result"
    }
   ],
   "source": [
    "points_per_game(1507, 55)"
   ]
  },
  {
   "cell_type": "code",
   "execution_count": 71,
   "id": "d9e297e6",
   "metadata": {},
   "outputs": [],
   "source": [
    "lebron_total_points = 1507\n",
    "lebron_games_played = 55"
   ]
  },
  {
   "cell_type": "code",
   "execution_count": 73,
   "id": "a97e18dc",
   "metadata": {},
   "outputs": [
    {
     "data": {
      "text/plain": [
       "27.4"
      ]
     },
     "execution_count": 73,
     "metadata": {},
     "output_type": "execute_result"
    }
   ],
   "source": [
    "points_per_game(lebron_total_points, lebron_games_played)"
   ]
  },
  {
   "cell_type": "code",
   "execution_count": 74,
   "id": "c488e2e3",
   "metadata": {},
   "outputs": [],
   "source": [
    "harden_ppg = points_per_game(2606,72)"
   ]
  },
  {
   "cell_type": "code",
   "execution_count": 75,
   "id": "9d471e98",
   "metadata": {},
   "outputs": [
    {
     "name": "stdout",
     "output_type": "stream",
     "text": [
      "36.19444444444444\n"
     ]
    }
   ],
   "source": [
    "print(harden_ppg)"
   ]
  },
  {
   "cell_type": "code",
   "execution_count": 76,
   "id": "34531679",
   "metadata": {},
   "outputs": [
    {
     "name": "stdout",
     "output_type": "stream",
     "text": [
      "36.2\n"
     ]
    }
   ],
   "source": [
    "print(round(harden_ppg,1))"
   ]
  },
  {
   "cell_type": "code",
   "execution_count": 77,
   "id": "07bb434a",
   "metadata": {},
   "outputs": [],
   "source": [
    "#Arrays - variable than can hold more than value at a time. makes applying math to variable fast"
   ]
  },
  {
   "cell_type": "code",
   "execution_count": 78,
   "id": "68fc17b4",
   "metadata": {},
   "outputs": [],
   "source": [
    "# Embiid pts, rebs, blks\n",
    "embiid_17_stats = np.array([627, 243, 76])\n",
    "embiid_18_stats = np.array([1445, 690, 111])\n",
    "embiid_19_stats = np.array([1707, 848, 116])"
   ]
  },
  {
   "cell_type": "code",
   "execution_count": 80,
   "id": "81f8c30f",
   "metadata": {},
   "outputs": [],
   "source": [
    "embiid_career_stats = (embiid_17_stats + embiid_18_stats + embiid_19_stats)\n",
    "total_gp = (63 + 31 + 62)"
   ]
  },
  {
   "cell_type": "code",
   "execution_count": 81,
   "id": "b32850c6",
   "metadata": {},
   "outputs": [
    {
     "data": {
      "text/plain": [
       "array([24.22435897, 11.41666667,  1.94230769])"
      ]
     },
     "execution_count": 81,
     "metadata": {},
     "output_type": "execute_result"
    }
   ],
   "source": [
    "embiid_career_stats / total_gp"
   ]
  },
  {
   "cell_type": "code",
   "execution_count": null,
   "id": "3747458a",
   "metadata": {},
   "outputs": [],
   "source": []
  }
 ],
 "metadata": {
  "kernelspec": {
   "display_name": "Python 3",
   "language": "python",
   "name": "python3"
  },
  "language_info": {
   "codemirror_mode": {
    "name": "ipython",
    "version": 3
   },
   "file_extension": ".py",
   "mimetype": "text/x-python",
   "name": "python",
   "nbconvert_exporter": "python",
   "pygments_lexer": "ipython3",
   "version": "3.8.8"
  }
 },
 "nbformat": 4,
 "nbformat_minor": 5
}
